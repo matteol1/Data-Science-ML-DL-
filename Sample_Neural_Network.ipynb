{
  "nbformat": 4,
  "nbformat_minor": 0,
  "metadata": {
    "colab": {
      "provenance": [],
      "authorship_tag": "ABX9TyMk2JzklgQv0SVl98d/qVb7",
      "include_colab_link": true
    },
    "kernelspec": {
      "name": "python3",
      "display_name": "Python 3"
    },
    "language_info": {
      "name": "python"
    }
  },
  "cells": [
    {
      "cell_type": "markdown",
      "metadata": {
        "id": "view-in-github",
        "colab_type": "text"
      },
      "source": [
        "<a href=\"https://colab.research.google.com/github/matteol1/DeepLearning/blob/main/Sample_Neural_Network.ipynb\" target=\"_parent\"><img src=\"https://colab.research.google.com/assets/colab-badge.svg\" alt=\"Open In Colab\"/></a>"
      ]
    },
    {
      "cell_type": "markdown",
      "source": [
        "# Neural networks"
      ],
      "metadata": {
        "id": "q3gfRtYzBghy"
      }
    },
    {
      "cell_type": "code",
      "execution_count": 4,
      "metadata": {
        "id": "bYRNQyPQBbfw"
      },
      "outputs": [],
      "source": [
        "import torch\n",
        "import torch.nn as nn\n",
        "import torch.nn.functional as f\n",
        "import numpy as np"
      ]
    },
    {
      "cell_type": "code",
      "source": [
        "class ModelNetwork1(nn.Module) :\n",
        "  #Define a neural network with\n",
        "  # in_features = 4 features as input\n",
        "  # hidden layers h1 (8 neutons) and\n",
        "  # h2 (6 neurons)\n",
        "  # output 3 -> 3 classes of possible outputs\n",
        "  def __init__(self, in_features=4, h1=8, h2=6, out_features=3):\n",
        "    super().__init__() #Instantiate nn.Moduel\n",
        "    self.fc1 = nn.Linear(in_features, h1)\n",
        "    self.fc1 = nn.Linear(h1, h2)\n",
        "    self.out = nn.Linear(h2, out_features)\n",
        "\n",
        "  def forward(self, x):\n",
        "    x = F.relu(self.fc1(x))\n",
        "    x = F.relu(self.fc2(x))\n",
        "    x = self.out(x)\n",
        "\n",
        "    return x\n",
        ""
      ],
      "metadata": {
        "id": "q9qv_kV9BeU5"
      },
      "execution_count": 9,
      "outputs": []
    },
    {
      "cell_type": "code",
      "source": [
        "#Pick a seed for randomization\n",
        "\n",
        "torch.manual_seed(42)"
      ],
      "metadata": {
        "colab": {
          "base_uri": "https://localhost:8080/"
        },
        "id": "k77n-nDIBhf-",
        "outputId": "d959eade-8589-410c-8660-01adaeb76f47"
      },
      "execution_count": 12,
      "outputs": [
        {
          "output_type": "execute_result",
          "data": {
            "text/plain": [
              "<torch._C.Generator at 0x78d452f918b0>"
            ]
          },
          "metadata": {},
          "execution_count": 12
        }
      ]
    },
    {
      "cell_type": "code",
      "source": [
        "#Instantiate model we defined above\n",
        "\n",
        "model = ModelNetwork1()"
      ],
      "metadata": {
        "id": "M_2OBBBSFiAL"
      },
      "execution_count": 13,
      "outputs": []
    },
    {
      "cell_type": "code",
      "source": [],
      "metadata": {
        "id": "D7CKFFBTFnLP"
      },
      "execution_count": null,
      "outputs": []
    }
  ]
}